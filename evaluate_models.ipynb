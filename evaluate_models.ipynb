{
 "cells": [
  {
   "cell_type": "code",
   "execution_count": 4,
   "id": "5a186030-46f2-4e6b-a62b-24b31c0595ee",
   "metadata": {},
   "outputs": [
    {
     "data": {
      "text/plain": [
       "0.0"
      ]
     },
     "execution_count": 4,
     "metadata": {},
     "output_type": "execute_result"
    }
   ],
   "source": [
    "1//(1/0.999)"
   ]
  },
  {
   "cell_type": "code",
   "execution_count": 7,
   "id": "8d73e89a-8d7f-4b98-91dc-54e085a09267",
   "metadata": {},
   "outputs": [],
   "source": [
    "import torch\n"
   ]
  },
  {
   "cell_type": "code",
   "execution_count": 8,
   "id": "5684b979-efc7-4aa0-b227-266065bf432f",
   "metadata": {},
   "outputs": [],
   "source": [
    "import numpy as np"
   ]
  },
  {
   "cell_type": "code",
   "execution_count": 9,
   "id": "43729698-61c6-4db4-bea7-07c41032f9d4",
   "metadata": {},
   "outputs": [],
   "source": [
    "bc = lambda y,p: - ( y*np.log(p) + (1-y)*np.log(1-p) )"
   ]
  },
  {
   "cell_type": "code",
   "execution_count": 11,
   "id": "fba85aec-c08d-43cb-b9e4-546cec64dc70",
   "metadata": {},
   "outputs": [],
   "source": [
    "\n",
    "criterion = torch.nn.BCELoss()"
   ]
  },
  {
   "cell_type": "code",
   "execution_count": 13,
   "id": "5cda960a-e023-43bc-8baf-ea950a2823eb",
   "metadata": {},
   "outputs": [
    {
     "data": {
      "text/plain": [
       "tensor([0.3711, 0.5130])"
      ]
     },
     "execution_count": 13,
     "metadata": {},
     "output_type": "execute_result"
    }
   ],
   "source": [
    "torch.nn.functional.cross_entropy(torch.tensor([[0.1,0.9],[0.7,0.3]]), \n",
    "                                  torch.tensor([[0,1.],[1,0.]]),reduction ='none')"
   ]
  },
  {
   "cell_type": "code",
   "execution_count": 401,
   "id": "f80ea961-0452-409d-89c9-7b9b6f698d03",
   "metadata": {},
   "outputs": [
    {
     "data": {
      "text/plain": [
       "tensor([[0.1000, 0.9000],\n",
       "        [0.7000, 0.3000]])"
      ]
     },
     "execution_count": 401,
     "metadata": {},
     "output_type": "execute_result"
    }
   ],
   "source": [
    "torch.tensor([[0.1,0.9],[0.7,0.3]]).clamp(min=0.0001)"
   ]
  },
  {
   "cell_type": "code",
   "execution_count": 45,
   "id": "033bb761-79b1-4ab1-b320-c32b6c23885f",
   "metadata": {},
   "outputs": [],
   "source": [
    "t_1 =torch.sigmoid(torch.tensor([[0,1.],\n",
    "                            [1,0.]]))"
   ]
  },
  {
   "cell_type": "code",
   "execution_count": 41,
   "id": "695f5db6-ebcc-4458-b75a-bdc11e737f91",
   "metadata": {},
   "outputs": [],
   "source": [
    "a_1 =torch.sigmoid(torch.tensor([[0.1,0.9],\n",
    "                            [0.7,0.3]]))"
   ]
  },
  {
   "cell_type": "code",
   "execution_count": null,
   "id": "6778ae0d-96b1-4c16-b4df-4938de1e86e8",
   "metadata": {},
   "outputs": [],
   "source": [
    "(batch[0].shape[1] - self.chunk_size + 1)//self.chunk_size"
   ]
  },
  {
   "cell_type": "code",
   "execution_count": 395,
   "id": "b9a83adf-5953-4b47-9588-36c43e86fc73",
   "metadata": {},
   "outputs": [
    {
     "data": {
      "text/plain": [
       "tensor([[[1.],\n",
       "         [nan],\n",
       "         [1.],\n",
       "         [nan],\n",
       "         [1.],\n",
       "         [1.],\n",
       "         [nan],\n",
       "         [nan],\n",
       "         [nan],\n",
       "         [1.]],\n",
       "\n",
       "        [[1.],\n",
       "         [1.],\n",
       "         [nan],\n",
       "         [nan],\n",
       "         [1.],\n",
       "         [1.],\n",
       "         [nan],\n",
       "         [nan],\n",
       "         [1.],\n",
       "         [1.]]])"
      ]
     },
     "execution_count": 395,
     "metadata": {},
     "output_type": "execute_result"
    }
   ],
   "source": [
    "ki = torch.randint(0,2,(2,10,1))\n",
    "ki = ki/ki.sum(2)[:,:,None]\n",
    "ki\n",
    "\n"
   ]
  },
  {
   "cell_type": "code",
   "execution_count": 553,
   "id": "ffe8a84d-a040-4b2e-b39c-5366a1fc8018",
   "metadata": {},
   "outputs": [],
   "source": [
    "gam = 5\n",
    "ten = torch.tensor([0.01,0.2,0.3])\n",
    "dist =  torch.distributions.Beta(gam*ten,gam*(1-ten))"
   ]
  },
  {
   "cell_type": "code",
   "execution_count": 557,
   "id": "bf66d135-fee2-4bf0-b1dc-7c54b653c1ce",
   "metadata": {},
   "outputs": [
    {
     "data": {
      "text/plain": [
       "tensor([0.6278, 0.5000, 1.8298])"
      ]
     },
     "execution_count": 557,
     "metadata": {},
     "output_type": "execute_result"
    }
   ],
   "source": [
    "torch.exp(dist.log_prob(torch.tensor([0.06,0.5\n",
    "                                      ,0.3])\n",
    "                       ))"
   ]
  },
  {
   "cell_type": "code",
   "execution_count": 558,
   "id": "b3a7cccf-a891-412a-a02e-3b17f67a20ae",
   "metadata": {
    "scrolled": true
   },
   "outputs": [
    {
     "name": "stderr",
     "output_type": "stream",
     "text": [
      "C:\\Users\\31721\\.conda\\envs\\DL_project\\lib\\site-packages\\pkg_resources\\__init__.py:121: DeprecationWarning: pkg_resources is deprecated as an API\n",
      "  warnings.warn(\"pkg_resources is deprecated as an API\", DeprecationWarning)\n",
      "C:\\Users\\31721\\.conda\\envs\\DL_project\\lib\\site-packages\\pkg_resources\\__init__.py:2870: DeprecationWarning: Deprecated call to `pkg_resources.declare_namespace('google')`.\n",
      "Implementing implicit namespace packages (as specified in PEP 420) is preferred to `pkg_resources.declare_namespace`. See https://setuptools.pypa.io/en/latest/references/keywords.html#keyword-namespace-packages\n",
      "  declare_namespace(pkg)\n",
      "C:\\Users\\31721\\.conda\\envs\\DL_project\\lib\\site-packages\\pkg_resources\\__init__.py:2870: DeprecationWarning: Deprecated call to `pkg_resources.declare_namespace('mpl_toolkits')`.\n",
      "Implementing implicit namespace packages (as specified in PEP 420) is preferred to `pkg_resources.declare_namespace`. See https://setuptools.pypa.io/en/latest/references/keywords.html#keyword-namespace-packages\n",
      "  declare_namespace(pkg)\n"
     ]
    }
   ],
   "source": [
    "from board_env import *\n"
   ]
  },
  {
   "cell_type": "code",
   "execution_count": 559,
   "id": "90761c5a-d998-4f9c-8690-a1cfa486528c",
   "metadata": {},
   "outputs": [],
   "source": [
    "a_b = Board()"
   ]
  },
  {
   "cell_type": "code",
   "execution_count": 564,
   "id": "63d7eb0e-4042-4a31-a970-b18203222990",
   "metadata": {},
   "outputs": [
    {
     "name": "stdout",
     "output_type": "stream",
     "text": [
      "0\n",
      "0\n",
      "0\n",
      "0\n",
      "0\n",
      "0\n",
      "0\n",
      "0\n",
      "0\n",
      "0\n"
     ]
    }
   ],
   "source": [
    "for i in a_b.territories[:,0]:\n",
    "    print(i)"
   ]
  },
  {
   "cell_type": "code",
   "execution_count": 492,
   "id": "54b11396-f1a9-4321-9c12-670c787991f4",
   "metadata": {},
   "outputs": [
    {
     "data": {
      "text/plain": [
       "1.3146"
      ]
     },
     "execution_count": 492,
     "metadata": {},
     "output_type": "execute_result"
    }
   ],
   "source": [
    "1.3146e+00"
   ]
  },
  {
   "cell_type": "code",
   "execution_count": 398,
   "id": "e0226358-1d2d-4d0b-97f1-84a35f3bd834",
   "metadata": {},
   "outputs": [
    {
     "data": {
      "text/plain": [
       "tensor([1.1921e-07, 1.1921e-07])"
      ]
     },
     "execution_count": 398,
     "metadata": {},
     "output_type": "execute_result"
    }
   ],
   "source": [
    "dist = torch.distributions.Categorical(ki[:,-1])\n",
    "dist.entropy()"
   ]
  },
  {
   "cell_type": "code",
   "execution_count": 221,
   "id": "95456d20-3dca-45b6-ae00-4f3b0cadf62a",
   "metadata": {},
   "outputs": [
    {
     "name": "stdout",
     "output_type": "stream",
     "text": [
      "[(0, 256), (255, 257)]\n"
     ]
    }
   ],
   "source": [
    "a = 2816#2840\n",
    "a = 257#2840\n",
    "\n",
    "a_ = [(i,i+256) for i in range(0, a- 256    ,256-1)  ]\n",
    "print(a_ +[ (a_[-1][1] -1 , a) ])"
   ]
  },
  {
   "cell_type": "code",
   "execution_count": 95,
   "id": "a05287bb-9d44-470a-95ee-a33000d247b7",
   "metadata": {},
   "outputs": [
    {
     "name": "stdout",
     "output_type": "stream",
     "text": [
      "[256, 256, 256, 256, 256, 256, 256, 256, 256, 256, 256]\n"
     ]
    }
   ],
   "source": [
    "print( [ (j[1]-j[0]) for j in   [(i,i+256) for i in range(0, a-256,256-1)  ]  ] )\n"
   ]
  },
  {
   "cell_type": "code",
   "execution_count": 318,
   "id": "0d5f9506-f543-41e0-a382-c404a7ff76d8",
   "metadata": {},
   "outputs": [
    {
     "data": {
      "text/plain": [
       "0"
      ]
     },
     "execution_count": 318,
     "metadata": {},
     "output_type": "execute_result"
    }
   ],
   "source": [
    "import random \n",
    "random.randrange(3)"
   ]
  },
  {
   "cell_type": "code",
   "execution_count": 358,
   "id": "1bd0f203-8ff4-4d85-80d2-25ef87ce2605",
   "metadata": {},
   "outputs": [
    {
     "data": {
      "text/plain": [
       "tensor([3.], dtype=torch.float64)"
      ]
     },
     "execution_count": 358,
     "metadata": {},
     "output_type": "execute_result"
    }
   ],
   "source": [
    "part_0  = np.random.choice(np.where([0,1,0,1,0])[0])\n",
    "torch.tensor([\n",
    "                                                        [\n",
    "                                                         [part_0],\n",
    "                                                         [np.around(0.929,2)]\n",
    "                                                        ]\n",
    "                                                        ],requires_grad =False)[:,:,0][:,0]"
   ]
  },
  {
   "cell_type": "code",
   "execution_count": null,
   "id": "3190b155-a33e-4c1b-a5ac-9e3db283fe52",
   "metadata": {},
   "outputs": [],
   "source": []
  },
  {
   "cell_type": "code",
   "execution_count": 347,
   "id": "5f7215fc-8e75-45ad-a136-ee33dff03c10",
   "metadata": {},
   "outputs": [
    {
     "ename": "ValueError",
     "evalue": "empty range for randrange()",
     "output_type": "error",
     "traceback": [
      "\u001b[1;31m---------------------------------------------------------------------------\u001b[0m",
      "\u001b[1;31mValueError\u001b[0m                                Traceback (most recent call last)",
      "Cell \u001b[1;32mIn[347], line 2\u001b[0m\n\u001b[0;32m      1\u001b[0m a \u001b[38;5;241m=\u001b[39m [\u001b[38;5;241m1\u001b[39m]\n\u001b[1;32m----> 2\u001b[0m a\u001b[38;5;241m.\u001b[39mpop(\u001b[43mrandom\u001b[49m\u001b[38;5;241;43m.\u001b[39;49m\u001b[43mrandrange\u001b[49m\u001b[43m(\u001b[49m\u001b[38;5;28;43mlen\u001b[39;49m\u001b[43m(\u001b[49m\u001b[43ma\u001b[49m\u001b[43m)\u001b[49m\u001b[38;5;241;43m-\u001b[39;49m\u001b[38;5;241;43m1\u001b[39;49m\u001b[43m)\u001b[49m)\n\u001b[0;32m      3\u001b[0m a\n",
      "File \u001b[1;32m~\\.conda\\envs\\DL_project\\lib\\random.py:321\u001b[0m, in \u001b[0;36mRandom.randrange\u001b[1;34m(self, start, stop, step)\u001b[0m\n\u001b[0;32m    319\u001b[0m     \u001b[38;5;28;01mif\u001b[39;00m istart \u001b[38;5;241m>\u001b[39m \u001b[38;5;241m0\u001b[39m:\n\u001b[0;32m    320\u001b[0m         \u001b[38;5;28;01mreturn\u001b[39;00m \u001b[38;5;28mself\u001b[39m\u001b[38;5;241m.\u001b[39m_randbelow(istart)\n\u001b[1;32m--> 321\u001b[0m     \u001b[38;5;28;01mraise\u001b[39;00m \u001b[38;5;167;01mValueError\u001b[39;00m(\u001b[38;5;124m\"\u001b[39m\u001b[38;5;124mempty range for randrange()\u001b[39m\u001b[38;5;124m\"\u001b[39m)\n\u001b[0;32m    323\u001b[0m \u001b[38;5;66;03m# stop argument supplied.\u001b[39;00m\n\u001b[0;32m    324\u001b[0m \u001b[38;5;28;01mtry\u001b[39;00m:\n",
      "\u001b[1;31mValueError\u001b[0m: empty range for randrange()"
     ]
    }
   ],
   "source": [
    "a = [1]\n",
    "a.pop(random.randrange(len(a)-1))\n",
    "a"
   ]
  },
  {
   "cell_type": "code",
   "execution_count": 320,
   "id": "02584ace-8b00-4e8d-8da0-cd1f474944d8",
   "metadata": {},
   "outputs": [
    {
     "data": {
      "text/plain": [
       "tensor([1, 2, 0])"
      ]
     },
     "execution_count": 320,
     "metadata": {},
     "output_type": "execute_result"
    }
   ],
   "source": [
    "tensor = torch.tensor([[1, 2, 2],\n",
    "                   [3, 3, 4],\n",
    "                   [5, 5, 5]])\n",
    "\n",
    "dim = 1\n",
    "max_values, max_indices = torch.max(tensor, dim=dim)\n",
    "\n",
    "# Create a mask where values are equal to the maximum\n",
    "mask = (tensor == max_values.unsqueeze(dim))\n",
    "\n",
    "# Randomly select indices where the mask is True\n",
    "\n",
    "# Use the random indices to break ties\n",
    "max_indices[mask.sum(1)>1] = torch.argmax(mask.int(),dim=1)[mask.sum(1)>1]\n",
    "\n",
    "max_indices\n"
   ]
  },
  {
   "cell_type": "code",
   "execution_count": 315,
   "id": "35726d94-f00a-4aec-afed-9927639612fb",
   "metadata": {},
   "outputs": [
    {
     "ename": "ModuleNotFoundError",
     "evalue": "No module named 'scipy'",
     "output_type": "error",
     "traceback": [
      "\u001b[1;31m---------------------------------------------------------------------------\u001b[0m",
      "\u001b[1;31mModuleNotFoundError\u001b[0m                       Traceback (most recent call last)",
      "Cell \u001b[1;32mIn[315], line 1\u001b[0m\n\u001b[1;32m----> 1\u001b[0m \u001b[38;5;28;01mimport\u001b[39;00m \u001b[38;5;21;01mscipy\u001b[39;00m\n",
      "\u001b[1;31mModuleNotFoundError\u001b[0m: No module named 'scipy'"
     ]
    }
   ],
   "source": [
    "import scipy"
   ]
  },
  {
   "cell_type": "code",
   "execution_count": 313,
   "id": "0cc15ab0-07f6-4acc-a72b-e85c08d106c7",
   "metadata": {},
   "outputs": [
    {
     "data": {
      "text/plain": [
       "tensor([5])"
      ]
     },
     "execution_count": 313,
     "metadata": {},
     "output_type": "execute_result"
    }
   ],
   "source": [
    "import numpy as np\n",
    "\n",
    "torch.tensor(np.random.choice(torch.where(torch.tensor([1,0,0,1,0,1]))[0]))[None]"
   ]
  },
  {
   "cell_type": "code",
   "execution_count": 254,
   "id": "908b5406-030e-41a5-bc27-d1ebf5927579",
   "metadata": {},
   "outputs": [
    {
     "data": {
      "text/plain": [
       "(tensor([0, 0, 1, 2, 2, 2]), tensor([1, 2, 2, 0, 1, 2]))"
      ]
     },
     "execution_count": 254,
     "metadata": {},
     "output_type": "execute_result"
    }
   ],
   "source": [
    "torch.where(mask)"
   ]
  },
  {
   "cell_type": "code",
   "execution_count": 248,
   "id": "a90d8ae7-0474-41d7-83ba-4901e8749769",
   "metadata": {},
   "outputs": [
    {
     "data": {
      "text/plain": [
       "tensor([1, 2, 0])"
      ]
     },
     "execution_count": 248,
     "metadata": {},
     "output_type": "execute_result"
    }
   ],
   "source": [
    "torch.argmax(mask.int(),dim=1)"
   ]
  },
  {
   "cell_type": "code",
   "execution_count": 260,
   "id": "9623bda5-25c7-4243-863d-9c5604d45181",
   "metadata": {},
   "outputs": [],
   "source": [
    "\n",
    "tensor = mask.int()\n",
    "\n",
    "indices = torch.where(tensor == 1)\n",
    "\n",
    "# Generate random indices for each row\n",
    "random_indices = torch.randint(0, tensor.shape[1], size=(tensor.shape[0],))\n",
    "\n",
    "# Select the random indices from the indices of 1s for each row\n",
    "selected_indices = torch.gather(indices[1], 0, random_indices)"
   ]
  },
  {
   "cell_type": "code",
   "execution_count": 262,
   "id": "42519dc8-edb3-4731-b283-77ae499a9b19",
   "metadata": {},
   "outputs": [
    {
     "data": {
      "text/plain": [
       "tensor([2, 0, 2])"
      ]
     },
     "execution_count": 262,
     "metadata": {},
     "output_type": "execute_result"
    }
   ],
   "source": [
    "random_indices"
   ]
  },
  {
   "cell_type": "code",
   "execution_count": 261,
   "id": "b1f18e1e-1b0b-407e-908f-12e6c6d9630f",
   "metadata": {},
   "outputs": [
    {
     "data": {
      "text/plain": [
       "(tensor([[0, 1, 1],\n",
       "         [0, 0, 1],\n",
       "         [1, 1, 1]], dtype=torch.int32),\n",
       " tensor([2, 1, 2]))"
      ]
     },
     "execution_count": 261,
     "metadata": {},
     "output_type": "execute_result"
    }
   ],
   "source": [
    "tensor,selected_indices\n"
   ]
  },
  {
   "cell_type": "code",
   "execution_count": 256,
   "id": "6c58c0a9-6411-4d62-b7a4-6621d9560206",
   "metadata": {},
   "outputs": [
    {
     "data": {
      "text/plain": [
       "tensor([2, 2, 2])"
      ]
     },
     "execution_count": 256,
     "metadata": {},
     "output_type": "execute_result"
    }
   ],
   "source": [
    "selected_indices"
   ]
  },
  {
   "cell_type": "code",
   "execution_count": 234,
   "id": "d2c10beb-a5f1-48cd-b52a-4b2f564f37a9",
   "metadata": {},
   "outputs": [
    {
     "data": {
      "text/plain": [
       "tensor([1, 0])"
      ]
     },
     "execution_count": 234,
     "metadata": {},
     "output_type": "execute_result"
    }
   ],
   "source": [
    "max_indices[mask.sum(1)>1]"
   ]
  },
  {
   "cell_type": "code",
   "execution_count": 228,
   "id": "982b7f6e-a43e-406b-b15c-667613ff3bf3",
   "metadata": {},
   "outputs": [
    {
     "data": {
      "text/plain": [
       "tensor([ True, False,  True])"
      ]
     },
     "execution_count": 228,
     "metadata": {},
     "output_type": "execute_result"
    }
   ],
   "source": [
    "mask.sum(1)>1"
   ]
  },
  {
   "cell_type": "code",
   "execution_count": 225,
   "id": "b648a0a9-234d-477f-906b-3ce9716a29c3",
   "metadata": {},
   "outputs": [
    {
     "data": {
      "text/plain": [
       "tensor([1, 2, 0])"
      ]
     },
     "execution_count": 225,
     "metadata": {},
     "output_type": "execute_result"
    }
   ],
   "source": [
    "max_indices"
   ]
  },
  {
   "cell_type": "code",
   "execution_count": 224,
   "id": "69851e9e-83ac-4554-88de-a687bc5195d9",
   "metadata": {},
   "outputs": [
    {
     "data": {
      "text/plain": [
       "tensor([2, 1, 0])"
      ]
     },
     "execution_count": 224,
     "metadata": {},
     "output_type": "execute_result"
    }
   ],
   "source": [
    "random_indices"
   ]
  },
  {
   "cell_type": "code",
   "execution_count": 191,
   "id": "9e2b1680-1a3a-4be1-a2e4-c57e6328ba2d",
   "metadata": {},
   "outputs": [
    {
     "data": {
      "text/plain": [
       "tensor([0, 1])"
      ]
     },
     "execution_count": 191,
     "metadata": {},
     "output_type": "execute_result"
    }
   ],
   "source": [
    "m.argmax(dim=1)"
   ]
  },
  {
   "cell_type": "code",
   "execution_count": 216,
   "id": "0eb80489-68af-4bf2-beca-ae1d7511d6a6",
   "metadata": {},
   "outputs": [
    {
     "data": {
      "text/plain": [
       "[<matplotlib.lines.Line2D at 0x228f150b580>]"
      ]
     },
     "execution_count": 216,
     "metadata": {},
     "output_type": "execute_result"
    },
    {
     "data": {
      "image/png": "[encoded data removed]",
      "text/plain": [
       "<Figure size 640x480 with 1 Axes>"
      ]
     },
     "metadata": {},
     "output_type": "display_data"
    }
   ],
   "source": [
    "import torch.nn as nn\n",
    "import matplotlib.pyplot as plt\n",
    "class SimpleNN(nn.Module):\n",
    "    def __init__(self, input_size, hidden_size, output_size):\n",
    "        super(SimpleNN, self).__init__()\n",
    "        self.fc1 = nn.Linear(input_size, hidden_size)\n",
    "        self.relu = nn.ReLU()\n",
    "        self.fc2 = nn.Linear(hidden_size, output_size)\n",
    "\n",
    "    def forward(self, x):\n",
    "        out = self.fc1(x)\n",
    "        out = self.relu(out)\n",
    "        out = self.fc2(out)\n",
    "        return out\n",
    "model = SimpleNN(2,2,2)\n",
    "\n",
    "my_optimizer = torch.optim.AdamW(model.parameters(),\n",
    "                lr=0.0001)\n",
    "\n",
    "my_lr_scheduler = torch.optim.lr_scheduler.CosineAnnealingLR( my_optimizer, \n",
    "                                                20, eta_min=1e-6)\n",
    "\n",
    "#my_lr_scheduler = torch.optim.lr_scheduler.CosineAnnealingWarmRestarts(my_optimizer, T_0=5, T_mult=2, eta_min=1e-6)\n",
    "\n",
    "\n",
    "\n",
    "lr_ = []\n",
    "for i in range(500):\n",
    "    #lr_.append(my_lr_scheduler.get_lr()[0])\n",
    "    lr_.append(my_optimizer.param_groups[0][\"lr\"])\n",
    "    my_lr_scheduler.step()\n",
    "plt.plot(lr_)"
   ]
  },
  {
   "cell_type": "code",
   "execution_count": 217,
   "id": "2bca89c9-7b13-4554-9d1d-34461f5d49af",
   "metadata": {},
   "outputs": [
    {
     "data": {
      "text/plain": [
       "0.0005"
      ]
     },
     "execution_count": 217,
     "metadata": {},
     "output_type": "execute_result"
    }
   ],
   "source": [
    "5e-4"
   ]
  },
  {
   "cell_type": "code",
   "execution_count": 178,
   "id": "4ddcfa0d-8ecf-477f-ae7a-11cf21bfa908",
   "metadata": {},
   "outputs": [
    {
     "name": "stdout",
     "output_type": "stream",
     "text": [
      "tensor([[0, 0],\n",
      "        [0, 2],\n",
      "        [0, 4],\n",
      "        [1, 1],\n",
      "        [1, 3]])\n",
      "tensor([0, 0])\n",
      "(tensor([0, 1]),)\n",
      "here tensor([0, 1])\n",
      "tensor([[0, 0, 0, 0, 0],\n",
      "        [0, 0, 0, 0, 0]]) tensor([[0, 0],\n",
      "        [0, 2]])\n"
     ]
    },
    {
     "ename": "RuntimeError",
     "evalue": "The size of tensor a (5) must match the size of tensor b (2) at non-singleton dimension 0",
     "output_type": "error",
     "traceback": [
      "\u001b[1;31m---------------------------------------------------------------------------\u001b[0m",
      "\u001b[1;31mRuntimeError\u001b[0m                              Traceback (most recent call last)",
      "Cell \u001b[1;32mIn[178], line 18\u001b[0m\n\u001b[0;32m     15\u001b[0m \u001b[38;5;66;03m#print(torch.where(valid_ind[:,[0]] ==  torch.where(torch.sum(mt,dim=1) ==0)))\u001b[39;00m\n\u001b[0;32m     16\u001b[0m \u001b[38;5;28mprint\u001b[39m(mt, valid_ind[zero_rows,]    )\n\u001b[1;32m---> 18\u001b[0m \u001b[38;5;28mprint\u001b[39m(\u001b[43mvalid_ind\u001b[49m\u001b[43m[\u001b[49m\u001b[43m:\u001b[49m\u001b[43m,\u001b[49m\u001b[38;5;241;43m0\u001b[39;49m\u001b[43m]\u001b[49m\u001b[43m \u001b[49m\u001b[38;5;241;43m==\u001b[39;49m\u001b[43m \u001b[49m\u001b[43mzero_rows\u001b[49m   )\n\u001b[0;32m     24\u001b[0m max_ind[torch\u001b[38;5;241m.\u001b[39mwhere(torch\u001b[38;5;241m.\u001b[39msum(mt,dim\u001b[38;5;241m=\u001b[39m\u001b[38;5;241m1\u001b[39m) \u001b[38;5;241m==\u001b[39m\u001b[38;5;241m0\u001b[39m)] \u001b[38;5;241m=\u001b[39m valid_ind[torch\u001b[38;5;241m.\u001b[39mwhere(torch\u001b[38;5;241m.\u001b[39msum(mt,dim\u001b[38;5;241m=\u001b[39m\u001b[38;5;241m1\u001b[39m) \u001b[38;5;241m==\u001b[39m\u001b[38;5;241m0\u001b[39m),\u001b[38;5;241m0\u001b[39m]\n\u001b[0;32m     26\u001b[0m \u001b[38;5;28mprint\u001b[39m(max_ind)\n",
      "\u001b[1;31mRuntimeError\u001b[0m: The size of tensor a (5) must match the size of tensor b (2) at non-singleton dimension 0"
     ]
    }
   ],
   "source": [
    "a =torch.tensor([[0,5,0,2,0],[1,0,3,0,0]])\n",
    "m = torch.tensor([[1,0,1,0,1],[0,1,0,1,0]])\n",
    "\n",
    "mt = a*m\n",
    "valid_ind = m.argmax(dim=1)\n",
    "max_ind = torch.argmax(mt,dim=1)\n",
    "\n",
    "\n",
    "print(torch.nonzero(m))\n",
    "print(max_ind)\n",
    "print(torch.where(torch.sum(mt,dim=1) ==0))\n",
    "\n",
    "zero_rows = torch.where(torch.sum(mt,dim=1) ==0)[0]\n",
    "print('here',zero_rows)\n",
    "#print(torch.where(valid_ind[:,[0]] ==  torch.where(torch.sum(mt,dim=1) ==0)))\n",
    "print(mt, valid_ind[zero_rows,]    )\n",
    "\n",
    "print(valid_ind[:,0] == zero_rows   )\n",
    "\n",
    "\n",
    "\n",
    "\n",
    "\n",
    "max_ind[torch.where(torch.sum(mt,dim=1) ==0)] = valid_ind[torch.where(torch.sum(mt,dim=1) ==0),0]\n",
    "\n",
    "print(max_ind)\n"
   ]
  },
  {
   "cell_type": "code",
   "execution_count": 187,
   "id": "a0cf8e3a-8ced-4195-9593-69150f9c2084",
   "metadata": {},
   "outputs": [
    {
     "data": {
      "text/plain": [
       "[2]"
      ]
     },
     "execution_count": 187,
     "metadata": {},
     "output_type": "execute_result"
    }
   ],
   "source": [
    "list(max_ind[torch.where(torch.sum(mt,dim=1) ==0)].shape)"
   ]
  },
  {
   "cell_type": "code",
   "execution_count": 190,
   "id": "45039aba-34ec-452d-b823-ef4cc1492e98",
   "metadata": {},
   "outputs": [
    {
     "data": {
      "text/plain": [
       "tensor([[[0, 0],\n",
       "         [0, 2],\n",
       "         [0, 4],\n",
       "         [1, 1],\n",
       "         [1, 3]],\n",
       "\n",
       "        [[0, 0],\n",
       "         [0, 2],\n",
       "         [0, 4],\n",
       "         [1, 1],\n",
       "         [1, 3]]])"
      ]
     },
     "execution_count": 190,
     "metadata": {},
     "output_type": "execute_result"
    }
   ],
   "source": [
    "valid_ind.repeat( list(max_ind[torch.where(torch.sum(mt,dim=1) ==0)].shape)+[1,1])"
   ]
  },
  {
   "cell_type": "code",
   "execution_count": 173,
   "id": "80c4aa9f-a049-4a8b-9b6b-f9afacc8df38",
   "metadata": {},
   "outputs": [
    {
     "name": "stdout",
     "output_type": "stream",
     "text": [
      "tensor([[0, 0],\n",
      "        [0, 2],\n",
      "        [0, 4],\n",
      "        [1, 1],\n",
      "        [1, 3]])\n",
      "tensor([0, 0])\n",
      "(tensor([1]),)\n",
      "here tensor([1])\n",
      "tensor([[1, 0, 0, 0, 0],\n",
      "        [0, 0, 0, 0, 0]]) tensor([[0, 2]])\n",
      "tensor([False, False, False,  True,  True])\n",
      "tensor([0, 0])\n"
     ]
    }
   ],
   "source": []
  },
  {
   "cell_type": "code",
   "execution_count": 58,
   "id": "fad57068-ad64-43eb-bce9-7f71f88d319c",
   "metadata": {},
   "outputs": [
    {
     "data": {
      "text/plain": [
       "(tensor([[0.5250, 0.7109],\n",
       "         [0.6682, 0.5744]]),\n",
       " tensor([[0.5000, 0.7311],\n",
       "         [0.7311, 0.5000]]))"
      ]
     },
     "execution_count": 58,
     "metadata": {},
     "output_type": "execute_result"
    }
   ],
   "source": [
    "a_1[:,:],t_1[:,:]"
   ]
  },
  {
   "cell_type": "code",
   "execution_count": 48,
   "id": "3b48288e-ff2b-4fa7-9ba7-a364e6070d56",
   "metadata": {},
   "outputs": [
    {
     "data": {
      "text/plain": [
       "tensor([0.6944, 0.5914])"
      ]
     },
     "execution_count": 48,
     "metadata": {},
     "output_type": "execute_result"
    }
   ],
   "source": [
    "torch.nn.BCELoss(reduction ='none')(a_1[:,0], \n",
    "                                  t_1[:,0]\n",
    "                                   )"
   ]
  },
  {
   "cell_type": "code",
   "execution_count": 25,
   "id": "fd4cb0b0-8a54-4e81-95d1-481f2167c9d3",
   "metadata": {},
   "outputs": [
    {
     "data": {
      "text/plain": [
       "tensor(14)"
      ]
     },
     "execution_count": 25,
     "metadata": {},
     "output_type": "execute_result"
    }
   ],
   "source": [
    "torch.argmax(torch.tensor([ 1.5020e-02, -4.6089e-03, -1.3334e-02,  2.0343e-04, -4.3803e-03,\n",
    "          1.0656e-02,  3.3403e-03, -8.5943e-03, -2.4768e-02,  8.9168e-03,\n",
    "          9.9040e-03,  1.7217e-03, -1.4346e-02,  4.5131e-03,  2.0226e-02,\n",
    "          1.3239e-02, -3.4073e-03,  4.4389e-03,  1.2133e-02,  6.0024e-03,\n",
    "         -1.3568e-02,  1.6063e-03, -7.6509e-03,  5.0171e-03, -9.0722e-03,\n",
    "          1.6037e-03,  1.1047e-02, -3.4669e-03, -4.7848e-03, -9.7910e-03,\n",
    "         -6.2496e-03, -9.5539e-03]))#,  4.9830e-01,  5.0170e-01]"
   ]
  },
  {
   "cell_type": "code",
   "execution_count": 28,
   "id": "d6c607b0-f291-4e3b-a2ef-884362df7df0",
   "metadata": {},
   "outputs": [
    {
     "ename": "RuntimeError",
     "evalue": "Can't call numpy() on Tensor that requires grad. Use tensor.detach().numpy() instead.",
     "output_type": "error",
     "traceback": [
      "\u001b[1;31m---------------------------------------------------------------------------\u001b[0m",
      "\u001b[1;31mRuntimeError\u001b[0m                              Traceback (most recent call last)",
      "Cell \u001b[1;32mIn[28], line 10\u001b[0m\n\u001b[0;32m      7\u001b[0m \u001b[38;5;66;03m# Perform an operation that creates a gradient\u001b[39;00m\n\u001b[0;32m      8\u001b[0m output \u001b[38;5;241m=\u001b[39m tensor\u001b[38;5;241m.\u001b[39msum()\n\u001b[1;32m---> 10\u001b[0m output \u001b[38;5;241m=\u001b[39m \u001b[43moutput\u001b[49m\u001b[38;5;241;43m.\u001b[39;49m\u001b[43mnumpy\u001b[49m\u001b[43m(\u001b[49m\u001b[43m)\u001b[49m\n\u001b[0;32m     12\u001b[0m output \u001b[38;5;241m=\u001b[39m torch\u001b[38;5;241m.\u001b[39mcat((output[\u001b[38;5;28;01mNone\u001b[39;00m],tensor_2),axis \u001b[38;5;241m=\u001b[39m\u001b[38;5;241m0\u001b[39m)\u001b[38;5;241m.\u001b[39msum()\n\u001b[0;32m     13\u001b[0m \u001b[38;5;66;03m# Calculate gradients\u001b[39;00m\n",
      "\u001b[1;31mRuntimeError\u001b[0m: Can't call numpy() on Tensor that requires grad. Use tensor.detach().numpy() instead."
     ]
    }
   ],
   "source": [
    "import torch\n",
    "\n",
    "# Create a tensor and require gradients\n",
    "tensor = torch.tensor([3., 3.], requires_grad=True)\n",
    "tensor_2 = torch.tensor([3., 3.], requires_grad=True)\n",
    "\n",
    "# Perform an operation that creates a gradient\n",
    "output = tensor.sum()\n",
    "\n",
    "\n",
    "\n",
    "output = torch.cat((output[None],tensor_2),axis =0).sum()\n",
    "# Calculate gradients\n",
    "print(output.requires_grad,output)\n",
    "\n",
    "output.backward()\n",
    "\n",
    "# Print the gradient version\n",
    "print(tensor.grad._version)"
   ]
  },
  {
   "cell_type": "code",
   "execution_count": 59,
   "id": "258a2bc7-cc87-4eda-9384-c52572eee1f9",
   "metadata": {},
   "outputs": [
    {
     "name": "stdout",
     "output_type": "stream",
     "text": [
      "x: tensor([4.], requires_grad=True)\n",
      "y: tensor(9., grad_fn=<AddBackward0>)\n",
      "x.grad : tensor([2.])\n"
     ]
    }
   ],
   "source": [
    "# import torch library\n",
    "import torch\n",
    "\n",
    "# create tensors with requires_grad = true\n",
    "x = torch.tensor([4.0], requires_grad =True)\n",
    "k = torch.tensor(2.0, requires_grad =False)\n",
    "\n",
    "#x[0] = torch.tensor(3.0, requires_grad =True)\n",
    "\n",
    "# print the tensor\n",
    "print(\"x:\", x)\n",
    "\n",
    "# define a function y for the tensor, x\n",
    "\n",
    "y = x[0]*k + 1\n",
    "print(\"y:\", y)\n",
    "\n",
    "# Compute gradients using backward function for y\n",
    "y.backward()\n",
    "\n",
    "# Access the gradients using x.grad\n",
    "dx = x.grad\n",
    "print(\"x.grad :\", dx)"
   ]
  },
  {
   "cell_type": "code",
   "execution_count": 53,
   "id": "627adfcd-6ad1-49a5-ad63-f40acd7ed906",
   "metadata": {},
   "outputs": [
    {
     "data": {
      "text/plain": [
       "\u001b[1;31mDocstring:\u001b[0m\n",
       "one_hot(tensor, num_classes=-1) -> LongTensor\n",
       "\n",
       "Takes LongTensor with index values of shape ``(*)`` and returns a tensor\n",
       "of shape ``(*, num_classes)`` that have zeros everywhere except where the\n",
       "index of last dimension matches the corresponding value of the input tensor,\n",
       "in which case it will be 1.\n",
       "\n",
       "See also `One-hot on Wikipedia`_ .\n",
       "\n",
       ".. _One-hot on Wikipedia:\n",
       "    https://en.wikipedia.org/wiki/One-hot\n",
       "\n",
       "Arguments:\n",
       "    tensor (LongTensor): class values of any shape.\n",
       "    num_classes (int):  Total number of classes. If set to -1, the number\n",
       "        of classes will be inferred as one greater than the largest class\n",
       "        value in the input tensor.\n",
       "\n",
       "Returns:\n",
       "    LongTensor that has one more dimension with 1 values at the\n",
       "    index of last dimension indicated by the input, and 0 everywhere\n",
       "    else.\n",
       "\n",
       "Examples:\n",
       "    >>> F.one_hot(torch.arange(0, 5) % 3)\n",
       "    tensor([[1, 0, 0],\n",
       "            [0, 1, 0],\n",
       "            [0, 0, 1],\n",
       "            [1, 0, 0],\n",
       "            [0, 1, 0]])\n",
       "    >>> F.one_hot(torch.arange(0, 5) % 3, num_classes=5)\n",
       "    tensor([[1, 0, 0, 0, 0],\n",
       "            [0, 1, 0, 0, 0],\n",
       "            [0, 0, 1, 0, 0],\n",
       "            [1, 0, 0, 0, 0],\n",
       "            [0, 1, 0, 0, 0]])\n",
       "    >>> F.one_hot(torch.arange(0, 6).view(3,2) % 3)\n",
       "    tensor([[[1, 0, 0],\n",
       "             [0, 1, 0]],\n",
       "            [[0, 0, 1],\n",
       "             [1, 0, 0]],\n",
       "            [[0, 1, 0],\n",
       "             [0, 0, 1]]])\n",
       "\u001b[1;31mType:\u001b[0m      builtin_function_or_method"
      ]
     },
     "metadata": {},
     "output_type": "display_data"
    }
   ],
   "source": [
    "torch.nn.functional.one_hot ,requires_grad =False"
   ]
  },
  {
   "cell_type": "code",
   "execution_count": 51,
   "id": "2016c1c3-d5f2-4f27-aedf-286a1b9cfb36",
   "metadata": {},
   "outputs": [
    {
     "ename": "TypeError",
     "evalue": "to() received an invalid combination of arguments - got (str, requires_grad=bool), but expected one of:\n * (torch.device device, torch.dtype dtype, bool non_blocking, bool copy, *, torch.memory_format memory_format)\n * (torch.dtype dtype, bool non_blocking, bool copy, *, torch.memory_format memory_format)\n * (Tensor tensor, bool non_blocking, bool copy, *, torch.memory_format memory_format)\n",
     "output_type": "error",
     "traceback": [
      "\u001b[1;31m---------------------------------------------------------------------------\u001b[0m",
      "\u001b[1;31mTypeError\u001b[0m                                 Traceback (most recent call last)",
      "Cell \u001b[1;32mIn[51], line 1\u001b[0m\n\u001b[1;32m----> 1\u001b[0m \u001b[43mtorch\u001b[49m\u001b[38;5;241;43m.\u001b[39;49m\u001b[43mtensor\u001b[49m\u001b[43m(\u001b[49m\u001b[43m[\u001b[49m\u001b[43m[\u001b[49m\u001b[43m[\u001b[49m\u001b[38;5;241;43m1\u001b[39;49m\u001b[43m,\u001b[49m\u001b[38;5;241;43m1\u001b[39;49m\u001b[43m,\u001b[49m\u001b[38;5;241;43m1\u001b[39;49m\u001b[43m]\u001b[49m\u001b[43m]\u001b[49m\u001b[43m,\u001b[49m\u001b[43m[\u001b[49m\u001b[43m[\u001b[49m\u001b[38;5;241;43m2\u001b[39;49m\u001b[43m,\u001b[49m\u001b[38;5;241;43m2\u001b[39;49m\u001b[43m,\u001b[49m\u001b[38;5;241;43m2\u001b[39;49m\u001b[43m]\u001b[49m\u001b[43m]\u001b[49m\u001b[43m]\u001b[49m\u001b[43m)\u001b[49m\u001b[38;5;241;43m.\u001b[39;49m\u001b[43mto\u001b[49m\u001b[43m(\u001b[49m\u001b[38;5;124;43m'\u001b[39;49m\u001b[38;5;124;43mcpu\u001b[39;49m\u001b[38;5;124;43m'\u001b[39;49m\u001b[43m,\u001b[49m\u001b[43mrequires_grad\u001b[49m\u001b[43m \u001b[49m\u001b[38;5;241;43m=\u001b[39;49m\u001b[38;5;28;43;01mFalse\u001b[39;49;00m\u001b[43m)\u001b[49m\n",
      "\u001b[1;31mTypeError\u001b[0m: to() received an invalid combination of arguments - got (str, requires_grad=bool), but expected one of:\n * (torch.device device, torch.dtype dtype, bool non_blocking, bool copy, *, torch.memory_format memory_format)\n * (torch.dtype dtype, bool non_blocking, bool copy, *, torch.memory_format memory_format)\n * (Tensor tensor, bool non_blocking, bool copy, *, torch.memory_format memory_format)\n"
     ]
    }
   ],
   "source": [
    "torch.tensor([[[1,1,1]],[[2,2,2]]]).to('cpu',requires_grad =False)"
   ]
  },
  {
   "cell_type": "code",
   "execution_count": 19,
   "id": "53ed5ee5-74ff-46e7-93d9-80cccf2c6bf6",
   "metadata": {},
   "outputs": [
    {
     "data": {
      "text/plain": [
       "tensor([[[1, 1, 1]],\n",
       "\n",
       "        [[2, 2, 2]],\n",
       "\n",
       "        [[1, 1, 1]],\n",
       "\n",
       "        [[2, 2, 2]],\n",
       "\n",
       "        [[1, 1, 1]],\n",
       "\n",
       "        [[2, 2, 2]]])"
      ]
     },
     "execution_count": 19,
     "metadata": {},
     "output_type": "execute_result"
    }
   ],
   "source": [
    "torch.cat( (torch.tensor([[[1,1,1]],[[2,2,2]]]).repeat(2,1,1),\n",
    "              torch.tensor([[[1,1,1]],[[2,2,2]]])),dim=0)\n",
    "\n",
    "              "
   ]
  },
  {
   "cell_type": "code",
   "execution_count": null,
   "id": "9964762f-5214-4c18-85b8-dcb1acb9d0c4",
   "metadata": {},
   "outputs": [],
   "source": []
  },
  {
   "cell_type": "code",
   "execution_count": 4,
   "id": "476e48fc-24b2-493f-a660-7fd4d2b99ce0",
   "metadata": {},
   "outputs": [
    {
     "name": "stdout",
     "output_type": "stream",
     "text": [
      "Chunk: tensor([0, 1, 2])\n",
      "Chunk: tensor([2, 3, 4])\n",
      "Chunk: tensor([4, 5, 6])\n",
      "Chunk: tensor([6, 7, 8])\n"
     ]
    }
   ],
   "source": [
    "import torch\n",
    "\n",
    "def loop_with_overlap(tensor, chunk_size, overlap):\n",
    "  \"\"\"\n",
    "  Loops through a PyTorch tensor in chunks with overlapping elements.\n",
    "\n",
    "  Args:\n",
    "    tensor: The PyTorch tensor to loop through.\n",
    "    chunk_size: The size of each chunk.\n",
    "    overlap: The number of elements to overlap between chunks.\n",
    "\n",
    "  Yields:\n",
    "    Each chunk of the tensor with overlap.\n",
    "  \"\"\"\n",
    "\n",
    "  for i in range(0, len(tensor) - chunk_size + 1, chunk_size - overlap):\n",
    "    yield tensor[i:i + chunk_size]\n",
    "\n",
    "# Example usage\n",
    "tensor = torch.arange(10)  # Create a tensor from 0 to 9\n",
    "chunk_size = 3\n",
    "overlap = 1\n",
    "\n",
    "for chunk in loop_with_overlap(tensor, chunk_size, overlap):\n",
    "  print(f\"Chunk: {chunk}\")"
   ]
  },
  {
   "cell_type": "code",
   "execution_count": 174,
   "id": "33aca090-2db2-450c-afc5-b2d1cf2a1e23",
   "metadata": {},
   "outputs": [],
   "source": [
    "import numpy as np\n",
    "class Hero_agent(int):\n",
    "    def init_properties(self,agent_count,phases,cp=[],df=[],direct_action=True):\n",
    "        #self.draw_count = 0\n",
    "        self.init_win_count_iter(agent_count)\n",
    "        self.init_move_count_epi(phases)\n",
    "        self.cp = cp\n",
    "        self.df = df\n",
    "        self.direct_action = direct_action\n",
    "        self.init_reward_concern(agent_count,cp=cp,df=df)\n",
    "        \n",
    "    def init_reward_concern(self,agent_count,cp=[],df=[]):\n",
    "        if len(cp)==0:\n",
    "            cp = [int(self)]\n",
    "        self.concern=torch.tensor([(1 if i in cp \n",
    "                             else \n",
    "                             (-1 if i in df \n",
    "                                  else 0)) for i in range(1,agent_count+1) ])\n",
    "        #self.concern_2 = self.concern\n",
    "        #self.concern_2[self-1] =0\n",
    "        \n",
    "        self.multi_dependency = (sum(self.concern !=0)>1)\n",
    "        \n",
    "        \n",
    "        \n",
    "\n",
    "        \n",
    "    def init_win_count_iter(self,agent_count):\n",
    "        self.count_dict = {i:0 for i in range(1,agent_count+1)}\n",
    "        self.count_draw_dict = {i:0 for i in range(1,agent_count+1)}\n",
    "        self.draw_territory_count = 0\n",
    "    def init_move_count_epi(self,phases):\n",
    "        self.bad_move_count = 0\n",
    "        self.bad_move_phase_count = {i:0 for i in phases}\n",
    "        self.move_count =  {i:0 for i in phases}        \n",
    "    \n",
    "    def model_def(self, model):\n",
    "        self.model =model\n",
    "\n",
    "    def action_predict(self,data):\n",
    "        return self.model.action_predict(data)\n",
    "    def save_models(self):\n",
    "        self.model.save_models()\n",
    "\n",
    "    def process_reward(self,rewards,step,hero_steps):\n",
    "        if self.multi_dependency and self.direct_action:\n",
    "            return (rewards*self.concern.to(rewards.device)).sum(-1)[:step][hero_steps][:,None]\n",
    "        elif self.multi_dependency and not self.direct_action:\n",
    "            base_rew = torch.zeros( rewards[:step,self-1][hero_steps].shape)\n",
    "            #print(base_rew)\n",
    "\n",
    "            hero_step_list  = np.arange(0,step)[hero_steps]\n",
    "            for i,j in zip(hero_step_list[:-1],hero_step_list[1:]):\n",
    "                if j-i>1:\n",
    "                    #print(j,i,rewards[i:j],(rewards[i:j]*self.concern),(rewards[i:j]*self.concern).sum())\n",
    "                    base_rew[i]+= (rewards[i:j]*self.concern).sum()\n",
    "            #print(base_rew,rewards[hero_step_list[-1]:],(rewards[hero_step_list[-1]:]*self.concern))\n",
    "            base_rew[-1]+= (rewards[hero_step_list[-1]:]*self.concern).sum()\n",
    "            \n",
    "            return base_rew[:,None]\n",
    "            \n",
    "        else:\n",
    "            return rewards[:step][hero_steps][:,None]\n",
    "    \n",
    "    #def model_forward_call(self,name,kwarg):\n",
    "    #    return self.model_dict[name](**kwarg)\n",
    "        \n",
    "\n",
    "a = Hero_agent(1)"
   ]
  },
  {
   "cell_type": "code",
   "execution_count": 184,
   "id": "12cca4ea-5a27-4802-b24c-7dcd9040a663",
   "metadata": {},
   "outputs": [],
   "source": [
    "a.init_properties(3,[1,2,3],cp=[1],df=[2],direct_action=False)"
   ]
  },
  {
   "cell_type": "code",
   "execution_count": 186,
   "id": "99b622b3-af4e-4e39-9b69-0b575ebdaf4b",
   "metadata": {},
   "outputs": [
    {
     "data": {
      "text/plain": [
       "tensor([[-2.],\n",
       "        [-1.]])"
      ]
     },
     "execution_count": 186,
     "metadata": {},
     "output_type": "execute_result"
    }
   ],
   "source": [
    "a.process_reward(torch.tensor([[1,2,2],[2,2,3],[3,4,1],[3,4,1]]),4,[0,3])"
   ]
  },
  {
   "cell_type": "code",
   "execution_count": 1,
   "id": "e15a50b2-601f-43ab-be81-953007ef1128",
   "metadata": {},
   "outputs": [
    {
     "name": "stderr",
     "output_type": "stream",
     "text": [
      "C:\\Users\\31721\\.conda\\envs\\DL_project\\lib\\site-packages\\pkg_resources\\__init__.py:121: DeprecationWarning: pkg_resources is deprecated as an API\n",
      "  warnings.warn(\"pkg_resources is deprecated as an API\", DeprecationWarning)\n",
      "C:\\Users\\31721\\.conda\\envs\\DL_project\\lib\\site-packages\\pkg_resources\\__init__.py:2870: DeprecationWarning: Deprecated call to `pkg_resources.declare_namespace('google')`.\n",
      "Implementing implicit namespace packages (as specified in PEP 420) is preferred to `pkg_resources.declare_namespace`. See https://setuptools.pypa.io/en/latest/references/keywords.html#keyword-namespace-packages\n",
      "  declare_namespace(pkg)\n",
      "C:\\Users\\31721\\.conda\\envs\\DL_project\\lib\\site-packages\\pkg_resources\\__init__.py:2870: DeprecationWarning: Deprecated call to `pkg_resources.declare_namespace('mpl_toolkits')`.\n",
      "Implementing implicit namespace packages (as specified in PEP 420) is preferred to `pkg_resources.declare_namespace`. See https://setuptools.pypa.io/en/latest/references/keywords.html#keyword-namespace-packages\n",
      "  declare_namespace(pkg)\n"
     ]
    }
   ],
   "source": [
    "import gymnasium as gym\n",
    "import os\n",
    "#import gym\n",
    "import numpy as np\n",
    "\n",
    "import collections\n",
    "import pickle\n",
    "import tqdm\n",
    "\n",
    "from stable_baselines3.common.buffers import ReplayBuffer\n",
    "\n",
    "\n",
    "import os\n",
    "import random\n",
    "import time\n",
    "from dataclasses import dataclass\n",
    "\n",
    "import gymnasium as gym\n",
    "import numpy as np\n",
    "import torch\n",
    "import torch.nn as nn\n",
    "import torch.optim as optim\n",
    "import tyro\n",
    "from torch.distributions.categorical import Categorical\n",
    "from torch.utils.tensorboard import SummaryWriter\n",
    "\n",
    "from typing import Optional\n",
    "\n",
    "import functools\n",
    "import random\n",
    "from copy import copy\n",
    "\n",
    "import numpy as np\n",
    "from gymnasium.spaces import Discrete, MultiDiscrete, Box, Dict\n",
    "\n",
    "from pettingzoo import AECEnv\n",
    "\n",
    "\n",
    "\n",
    "import gymnasium\n",
    "\n",
    "\n",
    "from pettingzoo.utils import agent_selector, wrappers\n",
    "\n",
    "from gymnasium.utils import EzPickle\n",
    "\n",
    "\n",
    "\n",
    "from statistics import NormalDist\n",
    "\n",
    "import pygame\n",
    "\n",
    "from typing import Any , Generic, Iterable, Iterator, TypeVar\n",
    "ActionType = TypeVar(\"ActionType\")\n"
   ]
  },
  {
   "cell_type": "code",
   "execution_count": 2,
   "id": "afa91511-f5f3-4b12-b761-46edaceaeef3",
   "metadata": {},
   "outputs": [],
   "source": [
    "from Utilities.new_models import *\n",
    "import utils_gym\n",
    "import env_model_class_2\n",
    "\n",
    "\n",
    "from board_env import *\n",
    "\n",
    "\n",
    "\n",
    "%load_ext autoreload\n",
    "%autoreload 2"
   ]
  },
  {
   "cell_type": "code",
   "execution_count": 3,
   "id": "c933bf13-46e2-4a45-8f7a-c170246eb038",
   "metadata": {},
   "outputs": [],
   "source": [
    "from IPython.display import clear_output, display"
   ]
  },
  {
   "cell_type": "code",
   "execution_count": 6,
   "id": "50c75b32-8ec7-4818-af8d-1fd3686cc521",
   "metadata": {},
   "outputs": [],
   "source": [
    "import numpy as np\n",
    "class Hero_agent(int):\n",
    "    def init_properties(self,agent_count,phases):\n",
    "        #self.draw_count = 0\n",
    "        self.init_win_count_iter(agent_count)\n",
    "        self.init_move_count_epi(phases)\n",
    "        \n",
    "\n",
    "        \n",
    "    def init_win_count_iter(self,agent_count):\n",
    "        self.count_dict = {i:0 for i in range(1,agent_count+1)}\n",
    "        self.count_draw_dict = {i:0 for i in range(1,agent_count+1)}\n",
    "        self.draw_territory_count = 0\n",
    "    def init_move_count_epi(self,phases):\n",
    "        self.bad_move_count = 0\n",
    "        self.bad_move_phase_count = {i:0 for i in phases}\n",
    "        self.move_count =  {i:0 for i in phases}        \n",
    "    \n",
    "    def model_def(self, model):\n",
    "        self.model =model\n",
    "\n",
    "    def action_predict(self,data):\n",
    "        return self.model.action_predict(data)\n",
    "    def save_models(self):\n",
    "        self.model.save_models()\n",
    "    \n",
    "    #def model_forward_call(self,name,kwarg):\n",
    "    #    return self.model_dict[name](**kwarg)\n",
    "        \n",
    "\n",
    "a = Hero_agent(1)\n",
    "a.init_properties(3,[1,2,3])"
   ]
  },
  {
   "cell_type": "code",
   "execution_count": 3,
   "id": "e358f8b6-7c37-4cdf-bbb7-47132889bc6a",
   "metadata": {},
   "outputs": [],
   "source": [
    "class DDQN_module:\n",
    "    def __init__(self, qnet_config_dict, actor_config_dict,args,device,run_name,agent,writer=None):\n",
    "\n",
    "        self.agent = agent\n",
    "        self.run_name =run_name \n",
    "        self.actor_config_dict = actor_config_dict\n",
    "        self.qnet_config_dict = qnet_config_dict\n",
    "        self.args = args\n",
    "        self.device = device\n",
    "        self.writer = writer\n",
    "        \n",
    "        self.actor = Actor_ddqn(**self.actor_config_dict).to(self.device)\n",
    "        self.qf1 = QNetwork(**self.qnet_config_dict).to(self.device)\n",
    "        self.qf1_target = QNetwork(**self.qnet_config_dict).to(self.device)\n",
    "        self.target_actor = Actor_ddqn(**self.actor_config_dict).to(self.device)\n",
    "        \n",
    "        \n",
    "        self.target_actor.load_state_dict(self.actor.state_dict())\n",
    "        self.qf1_target.load_state_dict(self.qf1.state_dict())\n",
    "        self.q_optimizer = optim.Adam(list(self.qf1.parameters()), lr=self.args.learning_rate)\n",
    "        self.actor_optimizer = optim.Adam(list(self.actor.parameters()), lr=self.args.learning_rate)\n",
    "\n",
    "    def action_predict(self,data):\n",
    "        return self.actor(data)\n",
    "\n",
    "    def train_write(self,data,iteration,epoch):\n",
    "        #data = rb.sample(self.args.batch_size)\n",
    "        qf1_a_values, qf1_loss, actor_loss = self.train(data)\n",
    "        self.write(qf1_a_values, qf1_loss, actor_loss,epoch,iteration)\n",
    "\n",
    "    #def calculate_loss\n",
    "    \n",
    "    def train(self,data):\n",
    "\n",
    "\n",
    "        \n",
    "        with torch.no_grad():\n",
    "            collected_t_next = data.next_observations[:,-1]\n",
    "            next_state_actions = self.target_actor(data.next_observations[:,:-1])\n",
    "            qf1_next_target = self.qf1_target(data.next_observations[:,:-1], next_state_actions)\n",
    "\n",
    "            \n",
    "            next_q_value = data.rewards.flatten() + (1 - data.dones.flatten()) * (self.args.gamma**(collected_t_next+1)).view(-1) * (qf1_next_target).view(-1)\n",
    "    \n",
    "        qf1_a_values = self.qf1(data.observations[:,:-1], data.actions).view(-1)\n",
    "\n",
    "        criterion = nn.SmoothL1Loss()\n",
    "        \n",
    "        qf1_loss = criterion(qf1_a_values, next_q_value)\n",
    "\n",
    "        \n",
    "        #qf1_loss = nn.functional.mse_loss(qf1_a_values, next_q_value)\n",
    "        \n",
    "        # optimize the model\n",
    "        self.q_optimizer.zero_grad()\n",
    "        qf1_loss.backward()\n",
    "        self.q_optimizer.step()\n",
    "        \n",
    "        #if global_step % args.policy_frequency == 0:\n",
    "        actor_loss = -self.qf1(data.observations[:,:-1], self.actor(data.observations[:,:-1])).mean()\n",
    "        self.actor_optimizer.zero_grad()\n",
    "        actor_loss.backward()\n",
    "        self.actor_optimizer.step()\n",
    "    \n",
    "        # update the target network\n",
    "        for param, target_param in zip(self.actor.parameters(), self.target_actor.parameters()):\n",
    "            target_param.data.copy_(self.args.tau * param.data + (1 - self.args.tau) * target_param.data)\n",
    "        for param, target_param in zip(self.qf1.parameters(), self.qf1_target.parameters()):\n",
    "            target_param.data.copy_(self.args.tau * param.data + (1 - self.args.tau) * target_param.data)\n",
    "        return qf1_a_values, qf1_loss, actor_loss\n",
    "        \n",
    "\n",
    "    def write(self,qf1_a_values, qf1_loss, actor_loss,epoch,iteration):\n",
    "        \n",
    "        ind_epoch = epoch + (iteration-1)*self.args.update_epochs\n",
    "        self.writer.add_scalar(f\"losses/{self.agent}/qf1_values\", qf1_a_values.mean().item(), ind_epoch)\n",
    "        \n",
    "        self.writer.add_scalar(f\"losses/{self.agent}/qf1_loss\", qf1_loss.item(), ind_epoch)\n",
    "        self.writer.add_scalar(f\"losses/{self.agent}/actor_loss\", actor_loss.item(), ind_epoch)\n",
    "        \n",
    "    def save_models(self):\n",
    "        newpath = r'./models/'+ self.run_name +'/'+str(self.agent)\n",
    "        if not os.path.exists(newpath):\n",
    "            os.makedirs(newpath)\n",
    "        torch.save(self.actor.state_dict(), newpath+\"/actor.pt\")\n",
    "        torch.save(self.qf1.state_dict(), newpath+\"/qf1.pt\")\n",
    "        torch.save(self.qf1_target.state_dict(), newpath+\"/qf1_target.pt\")\n",
    "        torch.save(self.target_actor.state_dict(), newpath+\"/target_actor.pt\")  \n",
    "    def load_models(self):\n",
    "        newpath = r'./models/'+ self.run_name +'/'+str(self.agent)\n",
    "        self.actor.load_state_dict(torch.load(newpath+\"/actor.pt\"))\n",
    "        self.qf1.load_state_dict(torch.load(newpath+\"/qf1.pt\"))\n",
    "        self.qf1_target.load_state_dict(torch.load(newpath+\"/qf1_target.pt\"))\n",
    "        self.target_actor.load_state_dict(torch.load(newpath+\"/target_actor.pt\")) \n",
    "        \n",
    "\n",
    "                                          \n",
    "                   \n",
    "        \n",
    "        "
   ]
  },
  {
   "cell_type": "code",
   "execution_count": 5,
   "id": "9b2549d0-9859-4fe8-9c2f-93886527cf02",
   "metadata": {},
   "outputs": [],
   "source": [
    "class evaluate_model:\n",
    "    def __init__(self,Args,param_dict =dict({}),run_name=\"MountainCar-v0__exp1_ddqn___1__1724315565\"\n",
    "                 ):\n",
    "        # #### Configurations\n",
    "\n",
    "        self.args = Args()#tyro.cli(Args)\n",
    "        self.param_dict = param_dict\n",
    "        self.update_arg(param_dict=param_dict)\n",
    "\n",
    "        \n",
    "        #self.args.batch_size = int(self.args.num_envs * self.args.num_steps)\n",
    "        self.args.minibatch_size = int(self.args.batch_size // self.args.num_minibatches)\n",
    "        #self.args.num_iterations = self.args.total_timesteps // self.args.batch_size\n",
    "        self.gam = self.args.gamma\n",
    "        #self.args.minibatch_size = 256#128 \n",
    "        self.num_steps = self.args.num_steps#120000#1000000\n",
    "        self.num_iterations = self.args.num_iterations\n",
    "        self.episode_time_lim = self.args.episode_time_lim\n",
    "        self.num_episodes = self.args.num_episodes\n",
    "\n",
    "\n",
    "        \n",
    "        \n",
    "        \n",
    "        self.run_name = run_name\n",
    "\n",
    "        self.writer = None\n",
    "\n",
    "        # TRY NOT TO MODIFY: seeding\n",
    "        random.seed(self.args.seed)\n",
    "        np.random.seed(self.args.seed)\n",
    "        torch.manual_seed(self.args.seed)\n",
    "        \n",
    "        torch.backends.cudnn.deterministic = self.args.torch_deterministic\n",
    "        \n",
    "        self.device = torch.device(\"cuda\" if torch.cuda.is_available() and self.args.cuda else \"cpu\")\n",
    "        \n",
    "        \n",
    "        self.playe_r = 1#\"agent_1\" #\n",
    "        \n",
    "\n",
    "        \n",
    "        self.action_shape = (2,)\n",
    "\n",
    "        self.env_config = dict(render_mode = 'rgb_array', default_attack_all  = True,\n",
    "                            agent_count  = 4\n",
    "                               ,use_placement_perc=True,render_=False)\n",
    "\n",
    "        self.env = env_risk(**self.env_config)\n",
    "        \n",
    "        self.env.reset(seed=42)\n",
    "\n",
    "\n",
    "            \n",
    "\n",
    "        \n",
    "        self.total_agents  = len(self.env.possible_agents)\n",
    "        self.total_phases = len(self.env.phases)\n",
    "        \n",
    "        sample_obs = self.obs_converter(torch.tensor(self.env.last()[0]['observation']),\n",
    "                                        num_classes = self.total_agents+1\n",
    "                                       )\n",
    "        \n",
    "        self.ob_space_shape = sample_obs.shape #env.observation_space(playe_r)['observation'].shape\n",
    "        self.action_mask_shape = self.env.observation_space(self.playe_r)['action_mask'].shape\n",
    "        \n",
    "        #self.device = torch.device(\"cuda\" if torch.cuda.is_available() and args.cuda else \"cpu\")\n",
    "\n",
    "        \n",
    "        \n",
    "        self.agent_list = list(self.env.possible_agents)\n",
    "        \n",
    "        \n",
    "        \n",
    "        \n",
    "       \n",
    "        self.the_hero_agent = 1\n",
    "\n",
    "        \n",
    "        self.qnet_config_dict = dict(action_space = self.env.action_space(self.playe_r\n",
    "                                                                         ).shape[0],\n",
    "                                    ob_space=np.prod(self.ob_space_shape\n",
    "                                                    )+np.prod(self.action_mask_shape)\n",
    "                                         +1*( self.total_agents -1) #the current_agent +1#who actor agent was\n",
    "                                         +1*(self.total_phases -1)#the current phase\n",
    "                                         +1 # the number of troops\n",
    "                               )\n",
    "        self.actor_config_dict =  dict(env=self.env,\n",
    "                        action_space = self.env.observation_space(self.playe_r)['action_mask'].shape[0],\n",
    "                        ob_space=np.prod(self.ob_space_shape)+np.prod(self.action_mask_shape)\n",
    "                                         +1*( self.total_agents-1) #the current_agent +1#who actor agent was\n",
    "                                         +1*(self.total_phases -1)#the current phase\n",
    "                                         +1 # the number of troops\n",
    "                               )\n",
    "        \n",
    "        self.hero_agent_count = 2\n",
    "        self.hero_agents_list = {i:Hero_agent(i) for i in range(1,self.hero_agent_count+1) } # this is a list , need to pass it as an argument\n",
    "        \n",
    "        for i in self.hero_agents_list:\n",
    "            self.hero_agents_list[i].init_properties(self.total_agents,self.env.phases)        \n",
    "            \n",
    "            self.hero_agents_list[i].model_def(model = DDQN_module( self.qnet_config_dict, self.actor_config_dict,\n",
    "                                                                   self.args,device = self.device,run_name=self.run_name,agent=i)\n",
    "                                                )\n",
    "\n",
    "            self.hero_agents_list[i].model.load_models()\n",
    "            \n",
    "\n",
    "            #self.target_actor.load_state_dict(self.actor.state_dict())\n",
    "            #self.qf1_target.load_state_dict(self.qf1.state_dict())\n",
    "            #self.q_optimizer = optim.Adam(list(self.qf1.parameters()), lr=self.args.learning_rate)\n",
    "            #self.actor_optimizer = optim.Adam(list(self.actor.parameters()), lr=self.args.learning_rate)\n",
    "\n",
    "    def update_arg(self,param_dict=dict({})):\n",
    "       for i,j in param_dict.items():\n",
    "           setattr(self.args,i,j)\n",
    "    \n",
    "\n",
    "    \n",
    "    def obs_converter(self,  data, num_classes = 4, col =0 ):\n",
    "\n",
    "        if col != None:\n",
    "            return torch.concat((nn.functional.one_hot(data[:,col].detach().long(), \n",
    "                                                        num_classes = num_classes),\n",
    "                                      data[:,~col,None]\n",
    "                                ),axis=1\n",
    "                               )[:,1:].to(self.device)\n",
    "    \n",
    "    def map_agent_phase_hot(self, data,num_classes = 3):\n",
    "        return nn.functional.one_hot(torch.tensor(data),num_classes = num_classes)[1:].to(self.device)\n",
    "    \n",
    "    def map_agent_phase_vector(self, data,num_classes = 3):\n",
    "        return nn.functional.one_hot(data[:,0].long(), \n",
    "                                                            num_classes = num_classes)[:,1:].to(self.device)\n",
    "\n",
    "    \n",
    "    def train_loop_init(self):\n",
    "        self.gamma_t = {i:0 for i in self.env.possible_agents}\n",
    "        \n",
    "        \n",
    "        self.draw_count = 0\n",
    "\n",
    "        for i in self.hero_agents_list:\n",
    "            self.hero_agents_list[i].init_win_count_iter(self.total_agents )\n",
    "        \n",
    "        \n",
    "        self.start_time = time.time()\n",
    "        self.global_step = 0\n",
    "\n",
    "    def reset_moves_hero_agents(self):\n",
    "        for i in self.hero_agents_list:\n",
    "            self.hero_agents_list[i].init_move_count_epi(self.env.phases)    \n",
    "    \n",
    "    def run_eval_loop(self):\n",
    "        \"\"\"\n",
    "        ### Run training loop\n",
    "        \"\"\"\n",
    "\n",
    "\n",
    "        env = env_risk(**(self.env_config | {\"render_mode\" : None, \"bad_mov_penalization\" : 0.01,\"render_\":False}))\n",
    "        env.reset(42)\n",
    "        \n",
    "        self.train_loop_init()\n",
    "        \n",
    "        for iteration in range(1, self.num_iterations+1):\n",
    "            self.sample(env,iteration)\n",
    "            print(iteration)\n",
    "\n",
    "    def sample(self,env,iteration):\n",
    "        with torch.no_grad():\n",
    "            # sample `worker_steps` from each worker\n",
    "            #there are no worker steps... rather there are full episodes\n",
    "\n",
    "            step = 0\n",
    "            fault_condition = False\n",
    "            clear_output(wait=True)\n",
    "            phase = 0\n",
    "        \n",
    "            \n",
    "            for episode in range(self.num_episodes):#num_episodes):\n",
    "                \n",
    "                total_rewards = {i:0 for i in env.possible_agents} #i can report this\n",
    "                action=1\n",
    "                \n",
    "                if fault_condition:\n",
    "                    env = env_risk(**(self.env_config | {\"render_mode\" : None,\"bad_mov_penalization\" : 0.01,\"render_\":False#False\n",
    "                                                        })\n",
    "                                      )#game.env(render_mode=None)\n",
    "\n",
    "                curren_epi = episode + (iteration-1)*self.num_episodes\n",
    "                env.reset(curren_epi) #for riplication\n",
    "                \n",
    "                fault_condition = False\n",
    "                step_count = 0\n",
    "                \n",
    "                self.reset_moves_hero_agents()\n",
    "                is_draw = 0\n",
    "                \n",
    "                #draw_territory_count = 0\n",
    "                #is_third = 0\n",
    "\n",
    "                for agent in env.agent_iter():\n",
    "                    e_t = env.terminations\n",
    "                    if sum(e_t.values()) <(self.total_agents-1):\n",
    "                        observation, reward, termination, truncation, info = env.last()\n",
    "        \n",
    "                        observation['observation'] =  self.obs_converter(\n",
    "                                                        torch.tensor(\n",
    "                                                            observation['observation']\n",
    "                                                        ).to(self.device,dtype=torch.float32),\n",
    "                                                        num_classes = self.total_agents+1)\n",
    "                        \n",
    "                        #episodes[step] = curren_epi\n",
    "                        #obs[step] = observation['observation']#torch.Tensor(observation['observation']).to(self.device) #sould i not add it .... meaning this is the last observation after the player dies\n",
    "                        #action_masks[step] = torch.Tensor(observation['action_mask']).to(self.device)\n",
    "                        \n",
    "                        #curr_agent = agent#int(agent[-1])\n",
    "                        #current_agent[step] = \n",
    "                        curr_agent = agent\n",
    "                        #current_phase[step] = \n",
    "                        phase = env.phase_selection\n",
    "                        \n",
    "                        phase_mapping = self.map_agent_phase_hot(phase,num_classes = self.total_phases).float()\n",
    "                        \n",
    "                        curr_agent_mapping = self.map_agent_phase_hot(int(curr_agent)-1,\n",
    "                                                                      num_classes = self.total_agents \n",
    "                                                                     ).float()\n",
    "                        \n",
    "                        #current_troops_count[step] = torch.Tensor([env.board.agents[i].bucket for i in env.possible_agents]).to(self.device)\n",
    "                    \n",
    "\n",
    "                        model_in = torch.Tensor(torch.hstack((observation['observation'].reshape(-1),torch.tensor(observation['action_mask'].reshape(-1)).to(self.device),\n",
    "                                           phase_mapping,\n",
    "                                            curr_agent_mapping,\n",
    "                                           torch.tensor([env.board.agents[curr_agent].bucket ]).to(self.device)))[None,:]#.repeat(3,axis = 0)\n",
    "                                                ).float()\n",
    "                        \n",
    "                        #if e_t[curr_agent]:\n",
    "                            #print('heeee')\n",
    "                            \n",
    "                        if termination or truncation: #this never happens ... the agent is removed from the current agent list and processed after the end of the cycle\n",
    "                            \n",
    "                            action = None\n",
    "\n",
    "                            act = self.actor(torch.Tensor(model_in).to(self.device))\n",
    "                            #act = self.\n",
    "                            #act, logprob, _, value = agent_mod.get_action_and_value(model_in)\n",
    "                            #values[step] = value.flatten() # so even if we are removing the guy ... we need to know what is the action he would \n",
    "                                                                #have taken at this point and what would have been its value\n",
    "                            #actions[step] = act #even after going what would have been\n",
    "                            #logprobs[step] = logprob        \n",
    "                        else:\n",
    "                            mask = observation[\"action_mask\"]\n",
    "                            if ( agent not in self.hero_agents_list):\n",
    "        \n",
    "                                \n",
    "                                action = env.action_space(agent).sample()\n",
    "                                part_0 =np.random.choice(np.where(env.board.calculated_action_mask(agent))[0])\n",
    "                                action = torch.Tensor([[[part_0],[np.around(action[1],2)]]]).to(self.device)\n",
    "                                action = action[:,:,0]\n",
    "\n",
    "                                if not( observation['action_mask'][action[:,0].long()]) : \n",
    "                                    fault_condition =True\n",
    "                                    print(agent,observation['action_mask'],action[:,0].long())\n",
    "                                    break\n",
    "\n",
    "\n",
    "                            \n",
    "                            else:\n",
    "                                action = self.hero_agents_list[curr_agent].action_predict(torch.Tensor(model_in).to(self.device))\n",
    "                                #action = self.actor(torch.Tensor(model_in).to(self.device))\n",
    "                            #actions[step] = action\n",
    "                            curr_agent_ = int(curr_agent)\n",
    "        \n",
    "                            if (not observation['action_mask'][action[:,0].long()]) : \n",
    "                                fault_condition =True\n",
    "                                #self.faulting_player = agent\n",
    "\n",
    "                                \n",
    "\n",
    "                                \n",
    "\n",
    "\n",
    "                                if  curr_agent_ in self.hero_agents_list:\n",
    "                                    print(observation['action_mask'],action[:,0].long())\n",
    "                                    print(env.board.calculated_action_mask(agent))\n",
    "                                    print(model_in)\n",
    "                                    break\n",
    "                                    self.hero_agents_list[curr_agent_].bad_move_count+=1\n",
    "                                    self.hero_agents_list[curr_agent_].bad_move_phase_count[phase]+=1  # when is the where_is_it_performing_bad_really\n",
    "                                    #print('here',agent, action, observation['action_mask'])\n",
    "                            \n",
    "        \n",
    "                            #if  curr_agent_ in self.hero_agents_list:\n",
    "                            #    self.hero_agents_list[curr_agent_].move_count[int(current_phase[step][0])]+=1  \n",
    "                            #if self.the_hero_agent == curr_agent:\n",
    "                                #move_count[int(current_phase[step][0])]+=1        \n",
    "        \n",
    "        \n",
    "                        #print('here',agent, action)\n",
    "                        if action != None :\n",
    "                            act_2 = action.detach().cpu().numpy()[0]#list([action.detach().cpu().numpy()[0][0], max(action.detach().cpu().numpy()[0][1],0.1) ])\n",
    "                            act_2 = list([act_2[0], max(act_2[1],0.001) ])\n",
    "                        else:\n",
    "                            act_2 = action\n",
    "\n",
    "                        \n",
    "                        env.step(act_2 if action != None else None) \n",
    "\n",
    "                        if action != None:\n",
    "                            curr_reward_list =  env.curr_rewards\n",
    "                            if (step_count == (self.episode_time_lim-1)):\n",
    "                                is_draw=1\n",
    "                                curr_reward_list = {i:-100 for i in env.possible_agents }\n",
    "        \n",
    "        \n",
    "                        #if action == None:\n",
    "                        #    print('heeee')\n",
    "                        #    rewards[step] = np.zeros(self.total_agents) # should i keep it -1? .... hm i dont think so .\n",
    "                        #    dones[step] = np.zeros(self.total_agents) # frankly the guys is already done so we really dont have to do anything here.... this is the state post termination for a loser \n",
    "                        #    # but btw this is for the next agent ... action == None means in the last action the previous agent would have been removed.\n",
    "                        #    #values[step] = \n",
    "                        #else:\n",
    "        #\n",
    "                        #    rewards_2[step] = torch.Tensor([env.curr_rewards[i] for i in env.possible_agents]).to(self.device)\n",
    "                        #    curr_reward_list =  env.curr_rewards\n",
    "                        #    \n",
    "                        #    if (step_count == (self.episode_time_lim-1)):\n",
    "                        #        is_draw=1\n",
    "                        #        curr_reward_list = {i:-100 for i in env.possible_agents }\n",
    "        #\n",
    "                        #    for i in env.possible_agents:\n",
    "                        #        if i != curr_agent:\n",
    "                        #            self.gamma_t[i]+=1\n",
    "                        #        else:\n",
    "                        #            self.gamma_t[i] =0\n",
    "        #\n",
    "                        #        if (step_count == (self.episode_time_lim-1)):\n",
    "                        #            cr_rew = -100\n",
    "                        #            term = True\n",
    "                        #        else:\n",
    "                        #            cr_rew = env.curr_rewards[i]\n",
    "                        #            term = env.terminations[i]\n",
    "#\n",
    "                        #        next_step_ = step-self.gamma_t[i]\n",
    "                        #        rewards[next_step_,i-1] += (self.args.gamma**self.gamma_t[i])*cr_rew\n",
    "                        #        t_next[next_step_,i-1] = self.gamma_t[i]\n",
    "                        #        dones[next_step_,i-1] = torch.Tensor([term]).to(self.device) #so the panetly has to be added but attributions is really difficult\n",
    "        \n",
    "                        #list_curr_reward_list = np.array(list(curr_reward_list.values()))\n",
    "                        \n",
    "                        #if sum(curr_reward_list.values()) == -300:\n",
    "                            #print('here')\n",
    "                            #is_draw=1\n",
    "        \n",
    "                        \n",
    "                        for age_i in env.possible_agents:\n",
    "                            \n",
    "                            total_rewards[age_i]+=curr_reward_list[age_i] #env.curr_rewards[age_i] if (step_count != episode_time_lim) else -100\n",
    "                                    \n",
    "                        \n",
    "                        step +=1\n",
    "                        self.global_step+=1\n",
    "        \n",
    "                    else:\n",
    "                        print('done:',env.terminations,#env.terminations.values(),\n",
    "                              \",total_reward:\",total_rewards, ',iteration:',iteration,\",episode:\", episode )\n",
    "                        break    \n",
    "                "
   ]
  },
  {
   "cell_type": "code",
   "execution_count": 58,
   "id": "6e38f14b-e0c2-47dc-8a5d-fcc76d21863c",
   "metadata": {},
   "outputs": [],
   "source": [
    "\n",
    "exp_3 = dict(\n",
    "exp_name = 'exp3_ddqn_lr_bs_1',\n",
    "learning_rate = 0.001,\n",
    "batch_size = 512,\n",
    "gamma = 0.99,\n",
    "num_steps=120000,\n",
    "num_iterations = 1,\n",
    "episode_time_lim = 10000,\n",
    "num_episodes = 1\n",
    "\n",
    "    \n",
    ")"
   ]
  },
  {
   "cell_type": "code",
   "execution_count": null,
   "id": "1874fe8a-b2ff-41ed-bde6-d704e7f8ef4c",
   "metadata": {},
   "outputs": [],
   "source": [
    "evaluate_model"
   ]
  },
  {
   "cell_type": "code",
   "execution_count": 65,
   "id": "ffc36958-6dab-4071-9b49-7aa46e64016e",
   "metadata": {},
   "outputs": [],
   "source": [
    "T = evaluate_model(Args,param_dict = exp_3,\n",
    "                   run_name = 'MountainCar-v0__exp1_ddqn___1__1724315565')"
   ]
  },
  {
   "cell_type": "code",
   "execution_count": 27,
   "id": "db911864-2cc2-484e-88e2-f342b8901b53",
   "metadata": {},
   "outputs": [
    {
     "data": {
      "text/plain": [
       "<__main__.DDQN_module at 0x248021bbe50>"
      ]
     },
     "execution_count": 27,
     "metadata": {},
     "output_type": "execute_result"
    }
   ],
   "source": []
  },
  {
   "cell_type": "code",
   "execution_count": null,
   "id": "54bfd1d4-3085-4d5f-aca7-d4f81e6798d1",
   "metadata": {},
   "outputs": [],
   "source": []
  },
  {
   "cell_type": "code",
   "execution_count": 66,
   "id": "b201cd3d-ce4c-4427-800f-c3954ca29755",
   "metadata": {},
   "outputs": [
    {
     "name": "stdout",
     "output_type": "stream",
     "text": [
      "[1 1 1 1 1 1 1 1 1 1 0 0 0 0 0 0 0 0 0 0 0 0 0 0 0 0 0 0 0 0 1 1] tensor([29], device='cuda:0')\n",
      "[1 1 1 1 1 1 1 1 1 1 0 0 0 0 0 0 0 0 0 0 0 0 0 0 0 0 0 0 0 0 1 1]\n",
      "tensor([[0., 0., 0., 0., 0., 0., 0., 0., 0., 0., 0., 0., 0., 0., 0., 0., 0., 0.,\n",
      "         0., 0., 0., 0., 0., 0., 0., 0., 0., 0., 0., 0., 0., 0., 0., 0., 0., 0.,\n",
      "         0., 0., 0., 0., 0., 0., 0., 0., 0., 0., 0., 0., 0., 0., 1., 1., 1., 1.,\n",
      "         1., 1., 1., 1., 1., 1., 0., 0., 0., 0., 0., 0., 0., 0., 0., 0., 0., 0.,\n",
      "         0., 0., 0., 0., 0., 0., 0., 0., 1., 1., 0., 0., 0., 0., 0., 3.]],\n",
      "       device='cuda:0')\n",
      "1\n"
     ]
    }
   ],
   "source": [
    "T.run_eval_loop()"
   ]
  },
  {
   "cell_type": "code",
   "execution_count": 73,
   "id": "091cb0f0-8eb5-47f1-aa80-114aab62b8fb",
   "metadata": {},
   "outputs": [],
   "source": [
    "\n",
    "\n",
    "\n",
    "\n",
    "hidden = T.hero_agents_list[2].model.actor.network( torch.tensor([[0., 0., 0., 0., 0., 0., 0., 0., 0., 0., 0., 0., 0., 0., 0., 0., 0., 0.,\n",
    "         0., 0., 0., 0., 0., 0., 0., 0., 0., 0., 0., 0., 0., 0., 0., 0., 0., 0.,\n",
    "         0., 0., 0., 0., 0., 0., 0., 0., 0., 0., 0., 0., 0., 0., 1., 1., 1., 1.,\n",
    "         1., 1., 1., 1., 1., 1., 0., 0., 0., 0., 0., 0., 0., 0., 0., 0., 0., 0.,\n",
    "         0., 0., 0., 0., 0., 0., 0., 0., 1., 1., 0., 0., 0., 0., 0., 3.]],\n",
    "       device='cuda:0'))\n",
    "logits = T.hero_agents_list[2].model.actor.actor_1(hidden)\n",
    "probs = Categorical(logits=logits)"
   ]
  },
  {
   "cell_type": "code",
   "execution_count": 74,
   "id": "e1ac125b-db8e-4b77-b50d-cdec8c7bd980",
   "metadata": {},
   "outputs": [
    {
     "data": {
      "text/plain": [
       "tensor([[0.0297, 0.0316, 0.0309, 0.0323, 0.0323, 0.0319, 0.0315, 0.0365, 0.0295,\n",
       "         0.0301, 0.0312, 0.0319, 0.0310, 0.0322, 0.0318, 0.0334, 0.0311, 0.0317,\n",
       "         0.0306, 0.0283, 0.0320, 0.0306, 0.0299, 0.0291, 0.0303, 0.0307, 0.0314,\n",
       "         0.0315, 0.0327, 0.0315, 0.0291, 0.0316]], device='cuda:0',\n",
       "       grad_fn=<SoftmaxBackward0>)"
      ]
     },
     "execution_count": 74,
     "metadata": {},
     "output_type": "execute_result"
    }
   ],
   "source": [
    "probs.probs"
   ]
  },
  {
   "cell_type": "code",
   "execution_count": 39,
   "id": "4f996a10-63f3-422e-b6b1-0e4c94e286b6",
   "metadata": {},
   "outputs": [],
   "source": [
    "class Actor_ddqn_(nn.Module):\n",
    "    def __init__(self, action_space = None, ob_space=None):\n",
    "        super().__init__()\n",
    "        #self.fc1 = nn.Linear(ob_space, 256)\n",
    "        #self.fc2 = nn.Linear(256, 256)\n",
    "        #self.fc_mu = nn.Linear(256, action_space)\n",
    "\n",
    "\n",
    "        self.network = nn.Sequential(\n",
    "            layer_init(nn.Linear(ob_space, 256)),\n",
    "            nn.GELU(),\n",
    "            layer_init(nn.Linear(256, 256)),\n",
    "            nn.GELU(),\n",
    "            layer_init(nn.Linear(256, 64)),\n",
    "            nn.GELU(),\n",
    "            #layer_init(nn.Linear(64, 64)),\n",
    "            #nn.GELU(),\n",
    "        )\n",
    "        self.actor_1 = layer_init(nn.Linear(64, action_space), std=0.01)\n",
    "        self.actor_2 = nn.Sequential(layer_init(nn.Linear(64, 2), std=0.01), nn.Softmax(dim=1),)\n",
    "\n",
    "\n",
    "    def forward(self, x):\n",
    "        \n",
    "        hidden = self.network(x)\n",
    "        logits = self.actor_1(hidden)\n",
    "        probs = Categorical(logits=logits)\n",
    "\n",
    "        action_1 = probs.sample()[:,None]\n",
    "        action_2 = self.actor_2(hidden)[:,[0]]\n",
    "\n",
    "        action = torch.concat((action_1,action_2),1)\n",
    "\n",
    "        return action#* self.action_scale + self.action_bias\n",
    "\n",
    "\n"
   ]
  },
  {
   "cell_type": "code",
   "execution_count": 40,
   "id": "db9052c3-d556-4702-bac1-064f3f351f24",
   "metadata": {},
   "outputs": [],
   "source": [
    "a1 = Actor_ddqn_(action_space = 5, ob_space=5)"
   ]
  },
  {
   "cell_type": "code",
   "execution_count": 43,
   "id": "5fccfd53-47b8-488d-a8fa-05d54df03bfd",
   "metadata": {},
   "outputs": [],
   "source": [
    "hidden = a1.network(torch.Tensor([[1,2,3,4,5]]))\n",
    "logits = a1.actor_1(hidden)\n",
    "probs = Categorical(logits=logits)\n",
    "\n",
    "#probs.sample()[:,None]"
   ]
  },
  {
   "cell_type": "code",
   "execution_count": 50,
   "id": "9ccba7e6-4a31-4024-99af-cd1df2ec99a9",
   "metadata": {},
   "outputs": [
    {
     "name": "stdout",
     "output_type": "stream",
     "text": [
      "tensor([3])\n",
      "tensor([0])\n",
      "tensor([4])\n",
      "tensor([3])\n",
      "tensor([4])\n",
      "tensor([4])\n",
      "tensor([0])\n",
      "tensor([1])\n",
      "tensor([4])\n",
      "tensor([0])\n",
      "tensor([0])\n",
      "tensor([1])\n",
      "tensor([0])\n",
      "tensor([3])\n",
      "tensor([0])\n",
      "tensor([2])\n",
      "tensor([4])\n",
      "tensor([4])\n",
      "tensor([0])\n",
      "tensor([3])\n"
     ]
    }
   ],
   "source": [
    "for i in range(20):\n",
    "    print(probs.sample())"
   ]
  },
  {
   "cell_type": "code",
   "execution_count": 42,
   "id": "a3bb2ef9-35a1-42e0-9708-1c7e98231018",
   "metadata": {},
   "outputs": [
    {
     "data": {
      "text/plain": [
       "tensor([[0.0000, 0.4998]], grad_fn=<CatBackward0>)"
      ]
     },
     "execution_count": 42,
     "metadata": {},
     "output_type": "execute_result"
    }
   ],
   "source": [
    "a1(torch.Tensor([[1,2,3,4,5]]))"
   ]
  },
  {
   "cell_type": "code",
   "execution_count": null,
   "id": "e9811b0e-6a09-44f7-99fc-45c8d91cbfca",
   "metadata": {},
   "outputs": [],
   "source": []
  }
 ],
 "metadata": {
  "kernelspec": {
   "display_name": "DL_project",
   "language": "python",
   "name": "dl_project"
  },
  "language_info": {
   "codemirror_mode": {
    "name": "ipython",
    "version": 3
   },
   "file_extension": ".py",
   "mimetype": "text/x-python",
   "name": "python",
   "nbconvert_exporter": "python",
   "pygments_lexer": "ipython3",
   "version": "3.10.8"
  }
 },
 "nbformat": 4,
 "nbformat_minor": 5
}
